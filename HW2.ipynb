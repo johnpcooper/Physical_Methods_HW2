{
 "cells": [
  {
   "cell_type": "code",
   "execution_count": 1,
   "metadata": {
    "collapsed": true
   },
   "outputs": [],
   "source": [
    "import numpy as np"
   ]
  },
  {
   "cell_type": "markdown",
   "metadata": {},
   "source": [
    "## Question 2\n",
    "### Part A: Fractional Coordinates"
   ]
  },
  {
   "cell_type": "markdown",
   "metadata": {},
   "source": [
    "Create numpy arrays representing the fractional coordinates of leu50 "
   ]
  },
  {
   "cell_type": "code",
   "execution_count": 2,
   "metadata": {
    "collapsed": true
   },
   "outputs": [],
   "source": [
    "raw_leu50 = np.array([38.093, 2.505, 53.400])\n",
    "unit_cell_dim = np.array([94, 94, 82.1])"
   ]
  },
  {
   "cell_type": "code",
   "execution_count": 3,
   "metadata": {
    "collapsed": true
   },
   "outputs": [],
   "source": [
    "frac_leu50 = raw_leu50 / unit_cell_dim"
   ]
  },
  {
   "cell_type": "code",
   "execution_count": 4,
   "metadata": {},
   "outputs": [
    {
     "data": {
      "text/plain": [
       "array([0.40524468, 0.02664894, 0.65042631])"
      ]
     },
     "execution_count": 4,
     "metadata": {},
     "output_type": "execute_result"
    }
   ],
   "source": [
    "frac_leu50"
   ]
  },
  {
   "cell_type": "markdown",
   "metadata": {},
   "source": [
    "Tuple representing the fractional coordinates of leu50 "
   ]
  },
  {
   "cell_type": "code",
   "execution_count": 13,
   "metadata": {
    "collapsed": true
   },
   "outputs": [],
   "source": [
    "leu50_tuple = (0.40524468, 0.02664894, 0.65042631)"
   ]
  },
  {
   "cell_type": "markdown",
   "metadata": {},
   "source": [
    "### Part B: Symmetry Operations"
   ]
  },
  {
   "cell_type": "markdown",
   "metadata": {},
   "source": [
    "Create variables for the 8 different symmetry operations available "
   ]
  },
  {
   "cell_type": "code",
   "execution_count": 11,
   "metadata": {},
   "outputs": [],
   "source": [
    "op1 = lambda x, y, z: (x, y, z)\n",
    "op2 = lambda x, y, z: (-x, -y, 0.5 + z)\n",
    "op3 = lambda x, y, z: (0.5-y,0.5+x,0.75+z)\n",
    "op4 = lambda x, y, z: (0.5+y,0.5-x,0.25+z)\n",
    "op5 = lambda x, y, z: (y,x,-z)\n",
    "op6 = lambda x, y, z: (-y,-x,0.5-z)\n",
    "op7 = lambda x, y, z: (0.5-x,0.5+y,0.75-z) \n",
    "op8 = lambda x, y, z: (0.5+x,0.5-y,0.25-z)"
   ]
  },
  {
   "cell_type": "markdown",
   "metadata": {},
   "source": [
    "Generate corresponding atoms based on reference leu50 "
   ]
  },
  {
   "cell_type": "code",
   "execution_count": 36,
   "metadata": {},
   "outputs": [
    {
     "data": {
      "text/plain": [
       "[(0.40524468, 0.02664894, 0.65042631),\n",
       " (-0.40524468, -0.02664894, 1.1504263099999998),\n",
       " (0.47335106, 0.90524468, 1.4004263099999998),\n",
       " (0.52664894, 0.09475531999999998, 0.90042631),\n",
       " (0.02664894, 0.40524468, -0.65042631),\n",
       " (-0.02664894, -0.40524468, -0.15042630999999995),\n",
       " (0.09475531999999998, 0.52664894, 0.09957369000000005),\n",
       " (0.90524468, 0.47335106, -0.40042630999999995)]"
      ]
     },
     "execution_count": 36,
     "metadata": {},
     "output_type": "execute_result"
    }
   ],
   "source": [
    "atom_coordinates = [op1(0.40524468, 0.02664894, 0.65042631),\n",
    "                    op2(0.40524468, 0.02664894, 0.65042631),\n",
    "                    op3(0.40524468, 0.02664894, 0.65042631),\n",
    "                    op4(0.40524468, 0.02664894, 0.65042631),\n",
    "                    op5(0.40524468, 0.02664894, 0.65042631),\n",
    "                    op6(0.40524468, 0.02664894, 0.65042631),\n",
    "                    op7(0.40524468, 0.02664894, 0.65042631),\n",
    "                    op8(0.40524468, 0.02664894, 0.65042631)]\n",
    "atom_coordinates"
   ]
  },
  {
   "cell_type": "markdown",
   "metadata": {},
   "source": [
    "Change the data type of the atom coordinates into a numpy array for ease of use below "
   ]
  },
  {
   "cell_type": "code",
   "execution_count": 37,
   "metadata": {},
   "outputs": [
    {
     "data": {
      "text/plain": [
       "array([[ 0.40524468,  0.02664894,  0.65042631],\n",
       "       [-0.40524468, -0.02664894,  1.15042631],\n",
       "       [ 0.47335106,  0.90524468,  1.40042631],\n",
       "       [ 0.52664894,  0.09475532,  0.90042631],\n",
       "       [ 0.02664894,  0.40524468, -0.65042631],\n",
       "       [-0.02664894, -0.40524468, -0.15042631],\n",
       "       [ 0.09475532,  0.52664894,  0.09957369],\n",
       "       [ 0.90524468,  0.47335106, -0.40042631]])"
      ]
     },
     "execution_count": 37,
     "metadata": {},
     "output_type": "execute_result"
    }
   ],
   "source": [
    "atom_coordinates_array = np.array(atom_coordinates)\n",
    "atom_coordinates_array"
   ]
  },
  {
   "cell_type": "code",
   "execution_count": 38,
   "metadata": {},
   "outputs": [
    {
     "data": {
      "text/plain": [
       "array([0.47335106, 0.90524468, 1.40042631])"
      ]
     },
     "execution_count": 38,
     "metadata": {},
     "output_type": "execute_result"
    }
   ],
   "source": [
    "atom_coordinates_array[2]"
   ]
  },
  {
   "cell_type": "markdown",
   "metadata": {},
   "source": [
    "Create a for loop that adjusts atom coordinates so that there are none < 0 or > 1 "
   ]
  },
  {
   "cell_type": "code",
   "execution_count": 40,
   "metadata": {},
   "outputs": [],
   "source": [
    "adj_atom_coordinates = atom_coordinates_array\n",
    "\n",
    "for row in range(0, 8):\n",
    "    for col in range(0,3):\n",
    "        \n",
    "        if atom_coordinates_array[row, col] < 0:\n",
    "            adj_atom_coordinates[row, col] = 1 - abs(atom_coordinates_array[row, col])\n",
    "            \n",
    "        elif atom_coordinates_array[row, col] > 1:\n",
    "            adj_atom_coordinates[row, col] = atom_coordinates_array[row, col] - 1\n",
    "            \n",
    "        else:\n",
    "            adj_atom_coordinates[row, col] = atom_coordinates_array[row, col]\n"
   ]
  },
  {
   "cell_type": "markdown",
   "metadata": {},
   "source": [
    "Display the final set representing the coordinates of each atom in each row "
   ]
  },
  {
   "cell_type": "code",
   "execution_count": 41,
   "metadata": {},
   "outputs": [
    {
     "data": {
      "text/plain": [
       "array([[0.40524468, 0.02664894, 0.65042631],\n",
       "       [0.59475532, 0.97335106, 0.15042631],\n",
       "       [0.47335106, 0.90524468, 0.40042631],\n",
       "       [0.52664894, 0.09475532, 0.90042631],\n",
       "       [0.02664894, 0.40524468, 0.34957369],\n",
       "       [0.97335106, 0.59475532, 0.84957369],\n",
       "       [0.09475532, 0.52664894, 0.09957369],\n",
       "       [0.90524468, 0.47335106, 0.59957369]])"
      ]
     },
     "execution_count": 41,
     "metadata": {},
     "output_type": "execute_result"
    }
   ],
   "source": [
    "adj_atom_coordinates"
   ]
  },
  {
   "cell_type": "markdown",
   "metadata": {},
   "source": [
    "## Question 3\n",
    "### Part A: Structure Factor "
   ]
  },
  {
   "cell_type": "code",
   "execution_count": 108,
   "metadata": {
    "collapsed": true
   },
   "outputs": [],
   "source": [
    "miller_indices = [1,5,2]\n",
    "frac_coords = (0.1, 0.3 ,0.7)\n",
    "scat_fac = 34"
   ]
  },
  {
   "cell_type": "markdown",
   "metadata": {},
   "source": [
    "Create a list of symmetry operators for the space group P21212 "
   ]
  },
  {
   "cell_type": "code",
   "execution_count": 109,
   "metadata": {
    "collapsed": true
   },
   "outputs": [],
   "source": [
    "p21212_operators = [lambda x, y, z: (x, y, z),\n",
    "                    lambda x, y, z: (-x, -y, z),\n",
    "                    lambda x, y, z: (0.5 - x, 0.5 + y, -z),\n",
    "                    lambda x, y, z: (0.5 + x, 0.5 - y, -z )]"
   ]
  },
  {
   "cell_type": "markdown",
   "metadata": {},
   "source": [
    "Use the symmetry oeprators to find coordinates for the other atoms in the unit cell "
   ]
  },
  {
   "cell_type": "code",
   "execution_count": 110,
   "metadata": {},
   "outputs": [
    {
     "data": {
      "text/plain": [
       "[(0.1, 0.3, 0.7), (-0.1, -0.3, 0.7), (0.4, 0.8, -0.7), (0.6, 0.2, -0.7)]"
      ]
     },
     "execution_count": 110,
     "metadata": {},
     "output_type": "execute_result"
    }
   ],
   "source": [
    "all_atoms = [p21212_operators[0](0.1, 0.3 ,0.7),\n",
    "             p21212_operators[1](0.1, 0.3 ,0.7),\n",
    "             p21212_operators[2](0.1, 0.3 ,0.7),\n",
    "             p21212_operators[3](0.1, 0.3 ,0.7)]\n",
    "all_atoms"
   ]
  },
  {
   "cell_type": "markdown",
   "metadata": {},
   "source": [
    "Change coordinates into a numpy array "
   ]
  },
  {
   "cell_type": "code",
   "execution_count": 111,
   "metadata": {},
   "outputs": [
    {
     "data": {
      "text/plain": [
       "array([[ 0.1,  0.3,  0.7],\n",
       "       [-0.1, -0.3,  0.7],\n",
       "       [ 0.4,  0.8, -0.7],\n",
       "       [ 0.6,  0.2, -0.7]])"
      ]
     },
     "execution_count": 111,
     "metadata": {},
     "output_type": "execute_result"
    }
   ],
   "source": [
    "atom_coordinates_array = np.array(all_atoms)\n",
    "atom_coordinates_array"
   ]
  },
  {
   "cell_type": "markdown",
   "metadata": {},
   "source": [
    "Same for loop as above "
   ]
  },
  {
   "cell_type": "code",
   "execution_count": 112,
   "metadata": {},
   "outputs": [],
   "source": [
    "atom_coordinates_array = np.array(all_atoms)\n",
    "adj_atom_coordinates = atom_coordinates_array\n",
    "\n",
    "for row in range(0, 4):\n",
    "    for col in range(0,3):\n",
    "        \n",
    "        if atom_coordinates_array[row, col] < 0:\n",
    "            adj_atom_coordinates[row, col] = 1 - abs(atom_coordinates_array[row, col])\n",
    "            \n",
    "        elif atom_coordinates_array[row, col] > 1:\n",
    "            adj_atom_coordinates[row, col] = atom_coordinates_array[row, col] - 1\n",
    "            \n",
    "        else:\n",
    "            adj_atom_coordinates[row, col] = atom_coordinates_array[row, col]"
   ]
  },
  {
   "cell_type": "markdown",
   "metadata": {},
   "source": [
    "The final adjusted coordinates. "
   ]
  },
  {
   "cell_type": "code",
   "execution_count": 113,
   "metadata": {},
   "outputs": [
    {
     "data": {
      "text/plain": [
       "array([[0.1, 0.3, 0.7],\n",
       "       [0.9, 0.7, 0.7],\n",
       "       [0.4, 0.8, 0.3],\n",
       "       [0.6, 0.2, 0.3]])"
      ]
     },
     "execution_count": 113,
     "metadata": {},
     "output_type": "execute_result"
    }
   ],
   "source": [
    "adj_atom_coordinates"
   ]
  },
  {
   "cell_type": "code",
   "execution_count": 114,
   "metadata": {
    "collapsed": true
   },
   "outputs": [],
   "source": [
    "import math"
   ]
  },
  {
   "cell_type": "markdown",
   "metadata": {},
   "source": [
    "Create two functions, one for the real part of the structure factor function and one for the imaginary part "
   ]
  },
  {
   "cell_type": "code",
   "execution_count": 115,
   "metadata": {},
   "outputs": [],
   "source": [
    "real_structure_factor_function = lambda x, y, z, h, k, l: 34 * math.cos(2*np.pi*(h*x + k*y + l*z))\n",
    "imag_structure_factor_function = lambda x, y, z, h, k, l: 34 * math.sin(2*np.pi*(h*x + k*y + l*z))"
   ]
  },
  {
   "cell_type": "markdown",
   "metadata": {},
   "source": [
    "Calculate the terms in the sum "
   ]
  },
  {
   "cell_type": "code",
   "execution_count": 116,
   "metadata": {},
   "outputs": [],
   "source": [
    "real_factor_terms = [real_structure_factor_function(0.1, 0.3, 0.7, 1, 5, 2),\n",
    "                     real_structure_factor_function(0.9, 0.7, 0.7, 1, 5, 2),\n",
    "                     real_structure_factor_function(0.4, 0.8, 0.3, 1, 5, 2),\n",
    "                     real_structure_factor_function(0.6, 0.2, 0.3, 1, 5, 2)]\n",
    "\n",
    "imag_factor_terms = [imag_structure_factor_function(0.1, 0.3, 0.7, 1, 5, 2),\n",
    "                     imag_structure_factor_function(0.9, 0.7, 0.7, 1, 5, 2),\n",
    "                     imag_structure_factor_function(0.4, 0.8, 0.3, 1, 5, 2),\n",
    "                     imag_structure_factor_function(0.6, 0.2, 0.3, 1, 5, 2)]"
   ]
  },
  {
   "cell_type": "code",
   "execution_count": 117,
   "metadata": {
    "scrolled": true
   },
   "outputs": [
    {
     "data": {
      "text/plain": [
       "[-2.4982794702606005e-14,\n",
       " -32.33592155403517,\n",
       " -4.1637991171010013e-14,\n",
       " 32.33592155403524]"
      ]
     },
     "execution_count": 117,
     "metadata": {},
     "output_type": "execute_result"
    }
   ],
   "source": [
    "imag_factor_terms"
   ]
  },
  {
   "cell_type": "markdown",
   "metadata": {},
   "source": [
    "### Part B: Argand Diagram Cordinates"
   ]
  },
  {
   "cell_type": "markdown",
   "metadata": {},
   "source": [
    "Calculate the sum of the terms above and thus the value of the real and imaginary parts of the structure factor "
   ]
  },
  {
   "cell_type": "code",
   "execution_count": 118,
   "metadata": {},
   "outputs": [
    {
     "name": "stdout",
     "output_type": "stream",
     "text": [
      "(89.01315561749658, 0.0)\n"
     ]
    }
   ],
   "source": [
    "real_structure_factor = np.array(real_factor_terms).sum()\n",
    "imag_structure_factor = np.array(imag_factor_terms).sum()\n",
    "\n",
    "print(real_structure_factor, imag_structure_factor)"
   ]
  },
  {
   "cell_type": "markdown",
   "metadata": {},
   "source": [
    "### Part C: Intensity of the (1,5,2) reflection"
   ]
  },
  {
   "cell_type": "code",
   "execution_count": 119,
   "metadata": {},
   "outputs": [
    {
     "data": {
      "text/plain": [
       "7923.341872984663"
      ]
     },
     "execution_count": 119,
     "metadata": {},
     "output_type": "execute_result"
    }
   ],
   "source": [
    "intensity = np.power(real_structure_factor, 2) + np.power(imag_structure_factor, 2)\n",
    "intensity"
   ]
  },
  {
   "cell_type": "markdown",
   "metadata": {},
   "source": [
    "### Part D: F(0,5,0)"
   ]
  },
  {
   "cell_type": "markdown",
   "metadata": {},
   "source": [
    "Same thing as above but with F(0,5,0)  "
   ]
  },
  {
   "cell_type": "code",
   "execution_count": 120,
   "metadata": {
    "collapsed": true
   },
   "outputs": [],
   "source": [
    "real_structure_factor_function = lambda x, y, z, h, k, l: 34 * math.cos(2*np.pi*(h*x + k*y + l*z))\n",
    "imag_structure_factor_function = lambda x, y, z, h, k, l: 34 * math.sin(2*np.pi*(h*x + k*y + l*z))"
   ]
  },
  {
   "cell_type": "code",
   "execution_count": 121,
   "metadata": {
    "collapsed": true
   },
   "outputs": [],
   "source": [
    "real_factor_terms = [real_structure_factor_function(0.1, 0.3, 0.7, 0, 5, 0),\n",
    "                     real_structure_factor_function(0.9, 0.7, 0.7, 0, 5, 0),\n",
    "                     real_structure_factor_function(0.4, 0.8, 0.3, 0, 5, 0),\n",
    "                     real_structure_factor_function(0.6, 0.2, 0.3, 0, 5, 0)]\n",
    "\n",
    "imag_factor_terms = [imag_structure_factor_function(0.1, 0.3, 0.7, 0, 5, 0),\n",
    "                     imag_structure_factor_function(0.9, 0.7, 0.7, 0, 5, 0),\n",
    "                     imag_structure_factor_function(0.4, 0.8, 0.3, 0, 5, 0),\n",
    "                     imag_structure_factor_function(0.6, 0.2, 0.3, 0, 5, 0)]"
   ]
  },
  {
   "cell_type": "code",
   "execution_count": 122,
   "metadata": {},
   "outputs": [
    {
     "name": "stdout",
     "output_type": "stream",
     "text": [
      "(0.0, 1.5777218104420236e-30)\n"
     ]
    }
   ],
   "source": [
    "real_structure_factor = np.array(real_factor_terms).sum()\n",
    "imag_structure_factor = np.array(imag_factor_terms).sum()\n",
    "\n",
    "print(real_structure_factor, imag_structure_factor)"
   ]
  },
  {
   "cell_type": "code",
   "execution_count": 123,
   "metadata": {},
   "outputs": [
    {
     "data": {
      "text/plain": [
       "2.4892061111444567e-60"
      ]
     },
     "execution_count": 123,
     "metadata": {},
     "output_type": "execute_result"
    }
   ],
   "source": [
    "intensity = np.power(real_structure_factor, 2) + np.power(imag_structure_factor, 2)\n",
    "intensity"
   ]
  },
  {
   "cell_type": "markdown",
   "metadata": {},
   "source": [
    "## Question 4"
   ]
  },
  {
   "cell_type": "code",
   "execution_count": 152,
   "metadata": {
    "collapsed": true
   },
   "outputs": [],
   "source": [
    "miller_indices = [3,7,1]\n",
    "frac_coords = (0.15, 0.21 ,0.34)\n",
    "scat_fac = 80\n",
    "native_I = 32000\n",
    "derivative_I = 40000\n",
    "unit_cell_dims = [135.0, 37.3, 49.0]"
   ]
  },
  {
   "cell_type": "markdown",
   "metadata": {},
   "source": [
    "Create a list of symmetry operators for the space group P21212 "
   ]
  },
  {
   "cell_type": "code",
   "execution_count": 153,
   "metadata": {
    "collapsed": true
   },
   "outputs": [],
   "source": [
    "p21212_operators = [lambda x, y, z: (x, y, z),\n",
    "                    lambda x, y, z: (-x, -y, z),\n",
    "                    lambda x, y, z: (0.5 - x, 0.5 + y, -z),\n",
    "                    lambda x, y, z: (0.5 + x, 0.5 - y, -z )]"
   ]
  },
  {
   "cell_type": "code",
   "execution_count": 154,
   "metadata": {},
   "outputs": [
    {
     "data": {
      "text/plain": [
       "[(0.15, 0.21, 0.34),\n",
       " (-0.15, -0.21, 0.34),\n",
       " (0.35, 0.71, -0.34),\n",
       " (0.65, 0.29000000000000004, -0.34)]"
      ]
     },
     "execution_count": 154,
     "metadata": {},
     "output_type": "execute_result"
    }
   ],
   "source": [
    "all_atoms = [p21212_operators[0](0.15, 0.21 ,0.34),\n",
    "             p21212_operators[1](0.15, 0.21 ,0.34),\n",
    "             p21212_operators[2](0.15, 0.21 ,0.34),\n",
    "             p21212_operators[3](0.15, 0.21 ,0.34)]\n",
    "all_atoms"
   ]
  },
  {
   "cell_type": "code",
   "execution_count": 155,
   "metadata": {},
   "outputs": [
    {
     "data": {
      "text/plain": [
       "array([[ 0.15,  0.21,  0.34],\n",
       "       [-0.15, -0.21,  0.34],\n",
       "       [ 0.35,  0.71, -0.34],\n",
       "       [ 0.65,  0.29, -0.34]])"
      ]
     },
     "execution_count": 155,
     "metadata": {},
     "output_type": "execute_result"
    }
   ],
   "source": [
    "atom_coordinates_array = np.array(all_atoms)\n",
    "atom_coordinates_array"
   ]
  },
  {
   "cell_type": "code",
   "execution_count": 156,
   "metadata": {
    "collapsed": true
   },
   "outputs": [],
   "source": [
    "atom_coordinates_array = np.array(all_atoms)\n",
    "adj_atom_coordinates = atom_coordinates_array\n",
    "\n",
    "for row in range(0, 4):\n",
    "    for col in range(0,3):\n",
    "        \n",
    "        if atom_coordinates_array[row, col] < 0:\n",
    "            adj_atom_coordinates[row, col] = 1 - abs(atom_coordinates_array[row, col])\n",
    "            \n",
    "        elif atom_coordinates_array[row, col] > 1:\n",
    "            adj_atom_coordinates[row, col] = atom_coordinates_array[row, col] - 1\n",
    "            \n",
    "        else:\n",
    "            adj_atom_coordinates[row, col] = atom_coordinates_array[row, col]"
   ]
  },
  {
   "cell_type": "code",
   "execution_count": 157,
   "metadata": {},
   "outputs": [
    {
     "data": {
      "text/plain": [
       "array([[0.15, 0.21, 0.34],\n",
       "       [0.85, 0.79, 0.34],\n",
       "       [0.35, 0.71, 0.66],\n",
       "       [0.65, 0.29, 0.66]])"
      ]
     },
     "execution_count": 157,
     "metadata": {},
     "output_type": "execute_result"
    }
   ],
   "source": [
    "adj_atom_coordinates"
   ]
  },
  {
   "cell_type": "code",
   "execution_count": 158,
   "metadata": {
    "collapsed": true
   },
   "outputs": [],
   "source": [
    "real_structure_factor_function = lambda x, y, z, h, k, l: 80 * math.cos(2*np.pi*(h*x + k*y + l*z))\n",
    "imag_structure_factor_function = lambda x, y, z, h, k, l: 80 * math.sin(2*np.pi*(h*x + k*y + l*z))"
   ]
  },
  {
   "cell_type": "code",
   "execution_count": 159,
   "metadata": {
    "collapsed": true
   },
   "outputs": [],
   "source": [
    "real_factor_terms = [real_structure_factor_function(0.15, 0.21, 0.34, 3, 7, 1),\n",
    "                     real_structure_factor_function(0.85, 0.79, 0.34, 3, 7, 1),\n",
    "                     real_structure_factor_function(0.35, 0.71, 0.66, 3, 7, 1),\n",
    "                     real_structure_factor_function(0.65, 0.29, 0.66, 3, 7, 1)]\n",
    "\n",
    "imag_factor_terms = [imag_structure_factor_function(0.15, 0.21, 0.34, 3, 7, 1),\n",
    "                     imag_structure_factor_function(0.85, 0.79, 0.34, 3, 7, 1),\n",
    "                     imag_structure_factor_function(0.35, 0.71, 0.66, 3, 7, 1),\n",
    "                     imag_structure_factor_function(0.65, 0.29, 0.66, 3, 7, 1)]"
   ]
  },
  {
   "cell_type": "code",
   "execution_count": 160,
   "metadata": {},
   "outputs": [
    {
     "name": "stdout",
     "output_type": "stream",
     "text": [
      "(-160.18403847095533, -15.644791416945253)\n"
     ]
    }
   ],
   "source": [
    "real_structure_factor = np.array(real_factor_terms).sum()\n",
    "imag_structure_factor = np.array(imag_factor_terms).sum()\n",
    "\n",
    "print(real_structure_factor, imag_structure_factor)"
   ]
  },
  {
   "cell_type": "code",
   "execution_count": 148,
   "metadata": {},
   "outputs": [
    {
     "data": {
      "text/plain": [
       "3.238951474923198"
      ]
     },
     "execution_count": 148,
     "metadata": {},
     "output_type": "execute_result"
    }
   ],
   "source": [
    "alpha_heavy = math.atan(imag_structure_factor / real_structure_factor)\n",
    "alpha_heavy = np.pi + alpha_heavy\n",
    "alpha_heavy"
   ]
  },
  {
   "cell_type": "code",
   "execution_count": 161,
   "metadata": {},
   "outputs": [
    {
     "data": {
      "text/plain": [
       "25903.68567934422"
      ]
     },
     "execution_count": 161,
     "metadata": {},
     "output_type": "execute_result"
    }
   ],
   "source": [
    "intensity = np.power(real_structure_factor, 2) + np.power(imag_structure_factor, 2)\n",
    "intensity"
   ]
  }
 ],
 "metadata": {
  "kernelspec": {
   "display_name": "Python 2",
   "language": "python",
   "name": "python2"
  },
  "language_info": {
   "codemirror_mode": {
    "name": "ipython",
    "version": 2
   },
   "file_extension": ".py",
   "mimetype": "text/x-python",
   "name": "python",
   "nbconvert_exporter": "python",
   "pygments_lexer": "ipython2",
   "version": "2.7.14"
  }
 },
 "nbformat": 4,
 "nbformat_minor": 2
}
